{
 "cells": [
  {
   "cell_type": "code",
   "execution_count": null,
   "metadata": {},
   "outputs": [],
   "source": [
    "#Day 7 & Day 8 Practice"
   ]
  },
  {
   "cell_type": "code",
   "execution_count": 4,
   "metadata": {},
   "outputs": [
    {
     "name": "stdout",
     "output_type": "stream",
     "text": [
      "UK\n",
      "US\n",
      "IND\n"
     ]
    }
   ],
   "source": [
    "country = ('UK','US','IND')\n",
    "\n",
    "for x in country:\n",
    "    print(x)"
   ]
  },
  {
   "cell_type": "code",
   "execution_count": 8,
   "metadata": {},
   "outputs": [
    {
     "name": "stdout",
     "output_type": "stream",
     "text": [
      "\n",
      "printing  the ranks\n",
      "23\n",
      "44\n",
      "55\n"
     ]
    }
   ],
   "source": [
    "print(\"\\nprinting  the ranks\")\n",
    "numbers = (23,44,55)\n",
    "for n in numbers:  \n",
    "    print(n)"
   ]
  },
  {
   "cell_type": "code",
   "execution_count": 11,
   "metadata": {},
   "outputs": [
    {
     "name": "stdout",
     "output_type": "stream",
     "text": [
      "LONDON\n",
      "America\n",
      "India\n"
     ]
    }
   ],
   "source": [
    "# conditions\n",
    "country = ('london','america','india')\n",
    "for x in country:\n",
    "    if x == 'london':\n",
    "        print(x.upper())\n",
    "    else:\n",
    "        print(x.title())"
   ]
  },
  {
   "cell_type": "code",
   "execution_count": 15,
   "metadata": {},
   "outputs": [
    {
     "name": "stdout",
     "output_type": "stream",
     "text": [
      "Python is case sentsitive\n"
     ]
    },
    {
     "data": {
      "text/plain": [
       "True"
      ]
     },
     "execution_count": 15,
     "metadata": {},
     "output_type": "execute_result"
    }
   ],
   "source": [
    "print(\"Python is case sentsitive\")\n",
    "names = 'vamsi'\n",
    "names == 'vamsi'\n",
    "\n",
    "\n"
   ]
  },
  {
   "cell_type": "code",
   "execution_count": 21,
   "metadata": {},
   "outputs": [
    {
     "name": "stdout",
     "output_type": "stream",
     "text": [
      "Today is:Monday Its not a weekend. dude..!!\n"
     ]
    }
   ],
   "source": [
    "today = 'Monday'\n",
    "\n",
    "if today != 'Friday':\n",
    "    print(\"Today is:\"+today+\" Its not a weekend. dude..!!\")"
   ]
  },
  {
   "cell_type": "code",
   "execution_count": 26,
   "metadata": {},
   "outputs": [
    {
     "name": "stdout",
     "output_type": "stream",
     "text": [
      "vamsi\n",
      "29\n"
     ]
    }
   ],
   "source": [
    "#dictionaries\n",
    "\n",
    "details = {'name':'vamsi','age':29}\n",
    "\n",
    "print(details['name'])\n",
    "print(details['age'])\n",
    "\n"
   ]
  }
 ],
 "metadata": {
  "kernelspec": {
   "display_name": "Python 3",
   "language": "python",
   "name": "python3"
  },
  "language_info": {
   "codemirror_mode": {
    "name": "ipython",
    "version": 3
   },
   "file_extension": ".py",
   "mimetype": "text/x-python",
   "name": "python",
   "nbconvert_exporter": "python",
   "pygments_lexer": "ipython3",
   "version": "3.7.3"
  }
 },
 "nbformat": 4,
 "nbformat_minor": 2
}
